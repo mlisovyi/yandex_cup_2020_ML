{
 "metadata": {
  "language_info": {
   "codemirror_mode": {
    "name": "ipython",
    "version": 3
   },
   "file_extension": ".py",
   "mimetype": "text/x-python",
   "name": "python",
   "nbconvert_exporter": "python",
   "pygments_lexer": "ipython3",
   "version": "3.7.8-final"
  },
  "orig_nbformat": 2,
  "kernelspec": {
   "name": "Python 3.7.8 64-bit ('yacup2020': conda)",
   "display_name": "Python 3.7.8 64-bit ('yacup2020': conda)",
   "metadata": {
    "interpreter": {
     "hash": "d766210ff219c80e4a6d9c8011c99b5f5a8cdc708594a198ac7e4eb519c177e8"
    }
   }
  }
 },
 "nbformat": 4,
 "nbformat_minor": 2,
 "cells": [
  {
   "cell_type": "code",
   "execution_count": 15,
   "metadata": {},
   "outputs": [],
   "source": [
    "import pandas as pd\n",
    "import numpy as np\n",
    "import matplotlib.pyplot as plt\n",
    "\n",
    "from final.solution import cast_line_elements"
   ]
  },
  {
   "cell_type": "code",
   "execution_count": 18,
   "metadata": {},
   "outputs": [],
   "source": [
    "# FIN = \"data/01_head100.txt\"\n",
    "FIN = \"data/01\"\n",
    "with open(FIN, \"r\") as fin:\n",
    "    lines= fin.readlines()\n",
    "\n",
    "# subset of rows to fit into memory\n",
    "lines = lines[:500]"
   ]
  },
  {
   "source": [
    "Extract the number of targets, categoricals and floats"
   ],
   "cell_type": "markdown",
   "metadata": {}
  },
  {
   "cell_type": "code",
   "execution_count": 19,
   "metadata": {},
   "outputs": [],
   "source": [
    "\n",
    "T, C, F = cast_line_elements(lines[0], int)\n",
    "cols_t = [f\"T{i}\" for i in range(T)]\n",
    "cols_c = [f\"C{i}\" for i in range(C)]\n",
    "cols_f = [f\"F{i}\" for i in range(F)]"
   ]
  },
  {
   "source": [
    "Transform the data into a dataframe casting appropreate types"
   ],
   "cell_type": "markdown",
   "metadata": {}
  },
  {
   "cell_type": "code",
   "execution_count": 4,
   "metadata": {},
   "outputs": [],
   "source": [
    "df = pd.Series(lines[5:]).map(lambda s: s.strip().split()).apply(pd.Series)\n",
    "df.columns = cols_t + cols_c + cols_f\n",
    "# every 10'000-th row is just a separator and will lead to weird rows in DF\n",
    "df = df.dropna()\n",
    "# ensure proper types\n",
    "dtypes = {col: np.uint16 for col in cols_c+cols_t}\n",
    "dtypes.update({col: np.float32 for col in cols_f})\n",
    "df = df.astype(dtypes)\n",
    "\n",
    "# separation of targets and features\n",
    "X = df.iloc[:,T:]\n",
    "y = df.iloc[:,:T]"
   ]
  },
  {
   "cell_type": "code",
   "execution_count": 14,
   "metadata": {},
   "outputs": [
    {
     "output_type": "display_data",
     "data": {
      "text/plain": "C0\n1    0.014580\n2    0.012598\n5    0.004348\nName: T0, dtype: float64"
     },
     "metadata": {}
    },
    {
     "output_type": "display_data",
     "data": {
      "text/plain": "C0\n0    0.023001\n2    0.000188\n3    0.000095\nName: T1, dtype: float64"
     },
     "metadata": {}
    },
    {
     "output_type": "display_data",
     "data": {
      "text/plain": "C0\n0    0.007386\n5    0.004348\n2    0.000846\nName: T2, dtype: float64"
     },
     "metadata": {}
    },
    {
     "output_type": "display_data",
     "data": {
      "text/plain": "C1\n24    0.200000\n3     0.041758\n5     0.010753\nName: T0, dtype: float64"
     },
     "metadata": {}
    },
    {
     "output_type": "display_data",
     "data": {
      "text/plain": "C1\n4     0.089685\n13    0.054645\n11    0.010274\nName: T1, dtype: float64"
     },
     "metadata": {}
    },
    {
     "output_type": "display_data",
     "data": {
      "text/plain": "C1\n8     0.066667\n22    0.059524\n1     0.008722\nName: T2, dtype: float64"
     },
     "metadata": {}
    },
    {
     "output_type": "display_data",
     "data": {
      "text/plain": "C2\n28    0.326087\n23    0.015267\n2     0.010643\nName: T0, dtype: float64"
     },
     "metadata": {}
    },
    {
     "output_type": "display_data",
     "data": {
      "text/plain": "C2\n40    0.125000\n10    0.119444\n1     0.030669\nName: T1, dtype: float64"
     },
     "metadata": {}
    },
    {
     "output_type": "display_data",
     "data": {
      "text/plain": "C2\n18    0.021622\n3     0.015587\n23    0.003817\nName: T2, dtype: float64"
     },
     "metadata": {}
    },
    {
     "output_type": "display_data",
     "data": {
      "text/plain": "C3\n1    0.009478\n2    0.007483\n3    0.006410\nName: T0, dtype: float64"
     },
     "metadata": {}
    },
    {
     "output_type": "display_data",
     "data": {
      "text/plain": "C3\n1    0.010002\n2    0.007143\n0    0.004967\nName: T1, dtype: float64"
     },
     "metadata": {}
    },
    {
     "output_type": "display_data",
     "data": {
      "text/plain": "C3\n1    0.003823\n2    0.003628\n0    0.001041\nName: T2, dtype: float64"
     },
     "metadata": {}
    }
   ],
   "source": [
    "for col_c in cols_c:\n",
    "    for col_t in cols_t:\n",
    "        display(df.groupby(col_c)[col_t].mean().sort_values(ascending=False).head(3))"
   ]
  },
  {
   "cell_type": "code",
   "execution_count": 22,
   "metadata": {},
   "outputs": [
    {
     "output_type": "execute_result",
     "data": {
      "text/plain": [
       "                 C0            C1            C2            C3            F0  \\\n",
       "count  49991.000000  49991.000000  49991.000000  49991.000000  49991.000000   \n",
       "mean       1.516513      3.327039      5.614391      0.791042     -0.039929   \n",
       "std        1.488289      4.083506      9.513095      0.794047      0.059000   \n",
       "min        0.000000      0.000000      0.000000      0.000000     -0.280913   \n",
       "25%        0.000000      0.000000      0.000000      0.000000     -0.080089   \n",
       "50%        1.000000      2.000000      1.000000      1.000000     -0.039761   \n",
       "75%        2.000000      5.000000      7.000000      1.000000      0.000502   \n",
       "max       13.000000     24.000000     67.000000      3.000000      0.211246   \n",
       "\n",
       "                 F1            F2            F3            F4            F5  \\\n",
       "count  49991.000000  49991.000000  49991.000000  49991.000000  49991.000000   \n",
       "mean       0.133259     -0.183929     -0.206304     -0.176007     -0.088586   \n",
       "std        0.056626      0.054814      0.057182      0.062944      0.060710   \n",
       "min       -0.110125     -0.420056     -0.500195     -0.404233     -0.341493   \n",
       "25%        0.096479     -0.221051     -0.241690     -0.217936     -0.131397   \n",
       "50%        0.134373     -0.186362     -0.204955     -0.178769     -0.089328   \n",
       "75%        0.171953     -0.152448     -0.170127     -0.134924     -0.045302   \n",
       "max        0.352586      0.090489      0.075728      0.106844      0.167910   \n",
       "\n",
       "       ...           F30           F31           F32           F33  \\\n",
       "count  ...  49991.000000  49991.000000  49991.000000  49991.000000   \n",
       "mean   ...      0.191345     -0.140815      0.121007      0.039696   \n",
       "std    ...      0.055451      0.055516      0.057273      0.058379   \n",
       "min    ...     -0.074427     -0.421731     -0.177438     -0.217398   \n",
       "25%    ...      0.156168     -0.177754      0.084843      0.004528   \n",
       "50%    ...      0.190656     -0.140058      0.121723      0.039585   \n",
       "75%    ...      0.228609     -0.102853      0.159655      0.076708   \n",
       "max    ...      0.407175      0.095775      0.347307      0.288957   \n",
       "\n",
       "                F34           F35           F36           F37           F38  \\\n",
       "count  49991.000000  49991.000000  49991.000000  49991.000000  49991.000000   \n",
       "mean      -0.178334     -0.221728      0.119030     -0.046311      0.043844   \n",
       "std        0.056255      0.056643      0.057565      0.057921      0.061112   \n",
       "min       -0.400903     -0.479079     -0.142627     -0.336353     -0.221567   \n",
       "25%       -0.215764     -0.258712      0.081772     -0.084130      0.004000   \n",
       "50%       -0.181509     -0.223401      0.119178     -0.045565      0.043573   \n",
       "75%       -0.143888     -0.183661      0.155583     -0.009423      0.084028   \n",
       "max        0.098288      0.058421      0.345802      0.281074      0.318011   \n",
       "\n",
       "                F39  \n",
       "count  49991.000000  \n",
       "mean      -0.111465  \n",
       "std        0.061188  \n",
       "min       -0.363703  \n",
       "25%       -0.152776  \n",
       "50%       -0.113658  \n",
       "75%       -0.073735  \n",
       "max        0.203152  \n",
       "\n",
       "[8 rows x 44 columns]"
      ],
      "text/html": "<div>\n<style scoped>\n    .dataframe tbody tr th:only-of-type {\n        vertical-align: middle;\n    }\n\n    .dataframe tbody tr th {\n        vertical-align: top;\n    }\n\n    .dataframe thead th {\n        text-align: right;\n    }\n</style>\n<table border=\"1\" class=\"dataframe\">\n  <thead>\n    <tr style=\"text-align: right;\">\n      <th></th>\n      <th>C0</th>\n      <th>C1</th>\n      <th>C2</th>\n      <th>C3</th>\n      <th>F0</th>\n      <th>F1</th>\n      <th>F2</th>\n      <th>F3</th>\n      <th>F4</th>\n      <th>F5</th>\n      <th>...</th>\n      <th>F30</th>\n      <th>F31</th>\n      <th>F32</th>\n      <th>F33</th>\n      <th>F34</th>\n      <th>F35</th>\n      <th>F36</th>\n      <th>F37</th>\n      <th>F38</th>\n      <th>F39</th>\n    </tr>\n  </thead>\n  <tbody>\n    <tr>\n      <th>count</th>\n      <td>49991.000000</td>\n      <td>49991.000000</td>\n      <td>49991.000000</td>\n      <td>49991.000000</td>\n      <td>49991.000000</td>\n      <td>49991.000000</td>\n      <td>49991.000000</td>\n      <td>49991.000000</td>\n      <td>49991.000000</td>\n      <td>49991.000000</td>\n      <td>...</td>\n      <td>49991.000000</td>\n      <td>49991.000000</td>\n      <td>49991.000000</td>\n      <td>49991.000000</td>\n      <td>49991.000000</td>\n      <td>49991.000000</td>\n      <td>49991.000000</td>\n      <td>49991.000000</td>\n      <td>49991.000000</td>\n      <td>49991.000000</td>\n    </tr>\n    <tr>\n      <th>mean</th>\n      <td>1.516513</td>\n      <td>3.327039</td>\n      <td>5.614391</td>\n      <td>0.791042</td>\n      <td>-0.039929</td>\n      <td>0.133259</td>\n      <td>-0.183929</td>\n      <td>-0.206304</td>\n      <td>-0.176007</td>\n      <td>-0.088586</td>\n      <td>...</td>\n      <td>0.191345</td>\n      <td>-0.140815</td>\n      <td>0.121007</td>\n      <td>0.039696</td>\n      <td>-0.178334</td>\n      <td>-0.221728</td>\n      <td>0.119030</td>\n      <td>-0.046311</td>\n      <td>0.043844</td>\n      <td>-0.111465</td>\n    </tr>\n    <tr>\n      <th>std</th>\n      <td>1.488289</td>\n      <td>4.083506</td>\n      <td>9.513095</td>\n      <td>0.794047</td>\n      <td>0.059000</td>\n      <td>0.056626</td>\n      <td>0.054814</td>\n      <td>0.057182</td>\n      <td>0.062944</td>\n      <td>0.060710</td>\n      <td>...</td>\n      <td>0.055451</td>\n      <td>0.055516</td>\n      <td>0.057273</td>\n      <td>0.058379</td>\n      <td>0.056255</td>\n      <td>0.056643</td>\n      <td>0.057565</td>\n      <td>0.057921</td>\n      <td>0.061112</td>\n      <td>0.061188</td>\n    </tr>\n    <tr>\n      <th>min</th>\n      <td>0.000000</td>\n      <td>0.000000</td>\n      <td>0.000000</td>\n      <td>0.000000</td>\n      <td>-0.280913</td>\n      <td>-0.110125</td>\n      <td>-0.420056</td>\n      <td>-0.500195</td>\n      <td>-0.404233</td>\n      <td>-0.341493</td>\n      <td>...</td>\n      <td>-0.074427</td>\n      <td>-0.421731</td>\n      <td>-0.177438</td>\n      <td>-0.217398</td>\n      <td>-0.400903</td>\n      <td>-0.479079</td>\n      <td>-0.142627</td>\n      <td>-0.336353</td>\n      <td>-0.221567</td>\n      <td>-0.363703</td>\n    </tr>\n    <tr>\n      <th>25%</th>\n      <td>0.000000</td>\n      <td>0.000000</td>\n      <td>0.000000</td>\n      <td>0.000000</td>\n      <td>-0.080089</td>\n      <td>0.096479</td>\n      <td>-0.221051</td>\n      <td>-0.241690</td>\n      <td>-0.217936</td>\n      <td>-0.131397</td>\n      <td>...</td>\n      <td>0.156168</td>\n      <td>-0.177754</td>\n      <td>0.084843</td>\n      <td>0.004528</td>\n      <td>-0.215764</td>\n      <td>-0.258712</td>\n      <td>0.081772</td>\n      <td>-0.084130</td>\n      <td>0.004000</td>\n      <td>-0.152776</td>\n    </tr>\n    <tr>\n      <th>50%</th>\n      <td>1.000000</td>\n      <td>2.000000</td>\n      <td>1.000000</td>\n      <td>1.000000</td>\n      <td>-0.039761</td>\n      <td>0.134373</td>\n      <td>-0.186362</td>\n      <td>-0.204955</td>\n      <td>-0.178769</td>\n      <td>-0.089328</td>\n      <td>...</td>\n      <td>0.190656</td>\n      <td>-0.140058</td>\n      <td>0.121723</td>\n      <td>0.039585</td>\n      <td>-0.181509</td>\n      <td>-0.223401</td>\n      <td>0.119178</td>\n      <td>-0.045565</td>\n      <td>0.043573</td>\n      <td>-0.113658</td>\n    </tr>\n    <tr>\n      <th>75%</th>\n      <td>2.000000</td>\n      <td>5.000000</td>\n      <td>7.000000</td>\n      <td>1.000000</td>\n      <td>0.000502</td>\n      <td>0.171953</td>\n      <td>-0.152448</td>\n      <td>-0.170127</td>\n      <td>-0.134924</td>\n      <td>-0.045302</td>\n      <td>...</td>\n      <td>0.228609</td>\n      <td>-0.102853</td>\n      <td>0.159655</td>\n      <td>0.076708</td>\n      <td>-0.143888</td>\n      <td>-0.183661</td>\n      <td>0.155583</td>\n      <td>-0.009423</td>\n      <td>0.084028</td>\n      <td>-0.073735</td>\n    </tr>\n    <tr>\n      <th>max</th>\n      <td>13.000000</td>\n      <td>24.000000</td>\n      <td>67.000000</td>\n      <td>3.000000</td>\n      <td>0.211246</td>\n      <td>0.352586</td>\n      <td>0.090489</td>\n      <td>0.075728</td>\n      <td>0.106844</td>\n      <td>0.167910</td>\n      <td>...</td>\n      <td>0.407175</td>\n      <td>0.095775</td>\n      <td>0.347307</td>\n      <td>0.288957</td>\n      <td>0.098288</td>\n      <td>0.058421</td>\n      <td>0.345802</td>\n      <td>0.281074</td>\n      <td>0.318011</td>\n      <td>0.203152</td>\n    </tr>\n  </tbody>\n</table>\n<p>8 rows × 44 columns</p>\n</div>"
     },
     "metadata": {},
     "execution_count": 22
    }
   ],
   "source": [
    "X.describe()"
   ]
  },
  {
   "cell_type": "code",
   "execution_count": 26,
   "metadata": {},
   "outputs": [
    {
     "output_type": "execute_result",
     "data": {
      "text/plain": [
       "<matplotlib.axes._subplots.AxesSubplot at 0x7f93c5156990>"
      ]
     },
     "metadata": {},
     "execution_count": 26
    },
    {
     "output_type": "display_data",
     "data": {
      "text/plain": "<Figure size 432x288 with 1 Axes>",
      "image/svg+xml": "<?xml version=\"1.0\" encoding=\"utf-8\" standalone=\"no\"?>\n<!DOCTYPE svg PUBLIC \"-//W3C//DTD SVG 1.1//EN\"\n  \"http://www.w3.org/Graphics/SVG/1.1/DTD/svg11.dtd\">\n<!-- Created with matplotlib (https://matplotlib.org/) -->\n<svg height=\"248.518125pt\" version=\"1.1\" viewBox=\"0 0 401.690625 248.518125\" width=\"401.690625pt\" xmlns=\"http://www.w3.org/2000/svg\" xmlns:xlink=\"http://www.w3.org/1999/xlink\">\n <defs>\n  <style type=\"text/css\">\n*{stroke-linecap:butt;stroke-linejoin:round;}\n  </style>\n </defs>\n <g id=\"figure_1\">\n  <g id=\"patch_1\">\n   <path d=\"M 0 248.518125 \nL 401.690625 248.518125 \nL 401.690625 0 \nL 0 0 \nz\n\" style=\"fill:none;\"/>\n  </g>\n  <g id=\"axes_1\">\n   <g id=\"patch_2\">\n    <path d=\"M 59.690625 224.64 \nL 394.490625 224.64 \nL 394.490625 7.2 \nL 59.690625 7.2 \nz\n\" style=\"fill:#ffffff;\"/>\n   </g>\n   <g id=\"patch_3\">\n    <path clip-path=\"url(#p09f78ba896)\" d=\"M 74.908807 224.64 \nL 105.345174 224.64 \nL 105.345174 224.254239 \nL 74.908807 224.254239 \nz\n\" style=\"fill:#1f77b4;\"/>\n   </g>\n   <g id=\"patch_4\">\n    <path clip-path=\"url(#p09f78ba896)\" d=\"M 105.345174 224.64 \nL 135.78154 224.64 \nL 135.78154 219.545682 \nL 105.345174 219.545682 \nz\n\" style=\"fill:#1f77b4;\"/>\n   </g>\n   <g id=\"patch_5\">\n    <path clip-path=\"url(#p09f78ba896)\" d=\"M 135.78154 224.64 \nL 166.217891 224.64 \nL 166.217891 183.851421 \nL 135.78154 183.851421 \nz\n\" style=\"fill:#1f77b4;\"/>\n   </g>\n   <g id=\"patch_6\">\n    <path clip-path=\"url(#p09f78ba896)\" d=\"M 166.217899 224.64 \nL 196.65425 224.64 \nL 196.65425 72.78622 \nL 166.217899 72.78622 \nz\n\" style=\"fill:#1f77b4;\"/>\n   </g>\n   <g id=\"patch_7\">\n    <path clip-path=\"url(#p09f78ba896)\" d=\"M 196.654258 224.64 \nL 227.090625 224.64 \nL 227.090625 17.554286 \nL 196.654258 17.554286 \nz\n\" style=\"fill:#1f77b4;\"/>\n   </g>\n   <g id=\"patch_8\">\n    <path clip-path=\"url(#p09f78ba896)\" d=\"M 227.090625 224.64 \nL 257.526992 224.64 \nL 257.526992 107.663575 \nL 227.090625 107.663575 \nz\n\" style=\"fill:#1f77b4;\"/>\n   </g>\n   <g id=\"patch_9\">\n    <path clip-path=\"url(#p09f78ba896)\" d=\"M 257.526987 224.64 \nL 287.963355 224.64 \nL 287.963355 187.674996 \nL 257.526987 187.674996 \nz\n\" style=\"fill:#1f77b4;\"/>\n   </g>\n   <g id=\"patch_10\">\n    <path clip-path=\"url(#p09f78ba896)\" d=\"M 287.963351 224.64 \nL 318.399718 224.64 \nL 318.399718 217.469379 \nL 287.963351 217.469379 \nz\n\" style=\"fill:#1f77b4;\"/>\n   </g>\n   <g id=\"patch_11\">\n    <path clip-path=\"url(#p09f78ba896)\" d=\"M 318.399722 224.64 \nL 348.836076 224.64 \nL 348.836076 223.857132 \nL 318.399722 223.857132 \nz\n\" style=\"fill:#1f77b4;\"/>\n   </g>\n   <g id=\"patch_12\">\n    <path clip-path=\"url(#p09f78ba896)\" d=\"M 348.836076 224.64 \nL 379.272443 224.64 \nL 379.272443 224.549233 \nL 348.836076 224.549233 \nz\n\" style=\"fill:#1f77b4;\"/>\n   </g>\n   <g id=\"matplotlib.axis_1\">\n    <g id=\"xtick_1\">\n     <g id=\"line2d_1\">\n      <defs>\n       <path d=\"M 0 0 \nL 0 3.5 \n\" id=\"med3de874f5\" style=\"stroke:#000000;stroke-width:0.8;\"/>\n      </defs>\n      <g>\n       <use style=\"stroke:#000000;stroke-width:0.8;\" x=\"109.11311\" xlink:href=\"#med3de874f5\" y=\"224.64\"/>\n      </g>\n     </g>\n     <g id=\"text_1\">\n      <!-- −0.3 -->\n      <defs>\n       <path d=\"M 10.59375 35.5 \nL 73.1875 35.5 \nL 73.1875 27.203125 \nL 10.59375 27.203125 \nz\n\" id=\"DejaVuSans-8722\"/>\n       <path d=\"M 31.78125 66.40625 \nQ 24.171875 66.40625 20.328125 58.90625 \nQ 16.5 51.421875 16.5 36.375 \nQ 16.5 21.390625 20.328125 13.890625 \nQ 24.171875 6.390625 31.78125 6.390625 \nQ 39.453125 6.390625 43.28125 13.890625 \nQ 47.125 21.390625 47.125 36.375 \nQ 47.125 51.421875 43.28125 58.90625 \nQ 39.453125 66.40625 31.78125 66.40625 \nz\nM 31.78125 74.21875 \nQ 44.046875 74.21875 50.515625 64.515625 \nQ 56.984375 54.828125 56.984375 36.375 \nQ 56.984375 17.96875 50.515625 8.265625 \nQ 44.046875 -1.421875 31.78125 -1.421875 \nQ 19.53125 -1.421875 13.0625 8.265625 \nQ 6.59375 17.96875 6.59375 36.375 \nQ 6.59375 54.828125 13.0625 64.515625 \nQ 19.53125 74.21875 31.78125 74.21875 \nz\n\" id=\"DejaVuSans-48\"/>\n       <path d=\"M 10.6875 12.40625 \nL 21 12.40625 \nL 21 0 \nL 10.6875 0 \nz\n\" id=\"DejaVuSans-46\"/>\n       <path d=\"M 40.578125 39.3125 \nQ 47.65625 37.796875 51.625 33 \nQ 55.609375 28.21875 55.609375 21.1875 \nQ 55.609375 10.40625 48.1875 4.484375 \nQ 40.765625 -1.421875 27.09375 -1.421875 \nQ 22.515625 -1.421875 17.65625 -0.515625 \nQ 12.796875 0.390625 7.625 2.203125 \nL 7.625 11.71875 \nQ 11.71875 9.328125 16.59375 8.109375 \nQ 21.484375 6.890625 26.8125 6.890625 \nQ 36.078125 6.890625 40.9375 10.546875 \nQ 45.796875 14.203125 45.796875 21.1875 \nQ 45.796875 27.640625 41.28125 31.265625 \nQ 36.765625 34.90625 28.71875 34.90625 \nL 20.21875 34.90625 \nL 20.21875 43.015625 \nL 29.109375 43.015625 \nQ 36.375 43.015625 40.234375 45.921875 \nQ 44.09375 48.828125 44.09375 54.296875 \nQ 44.09375 59.90625 40.109375 62.90625 \nQ 36.140625 65.921875 28.71875 65.921875 \nQ 24.65625 65.921875 20.015625 65.03125 \nQ 15.375 64.15625 9.8125 62.3125 \nL 9.8125 71.09375 \nQ 15.4375 72.65625 20.34375 73.4375 \nQ 25.25 74.21875 29.59375 74.21875 \nQ 40.828125 74.21875 47.359375 69.109375 \nQ 53.90625 64.015625 53.90625 55.328125 \nQ 53.90625 49.265625 50.4375 45.09375 \nQ 46.96875 40.921875 40.578125 39.3125 \nz\n\" id=\"DejaVuSans-51\"/>\n      </defs>\n      <g transform=\"translate(96.971703 239.238437)scale(0.1 -0.1)\">\n       <use xlink:href=\"#DejaVuSans-8722\"/>\n       <use x=\"83.789062\" xlink:href=\"#DejaVuSans-48\"/>\n       <use x=\"147.412109\" xlink:href=\"#DejaVuSans-46\"/>\n       <use x=\"179.199219\" xlink:href=\"#DejaVuSans-51\"/>\n      </g>\n     </g>\n    </g>\n    <g id=\"xtick_2\">\n     <g id=\"line2d_2\">\n      <g>\n       <use style=\"stroke:#000000;stroke-width:0.8;\" x=\"162.806493\" xlink:href=\"#med3de874f5\" y=\"224.64\"/>\n      </g>\n     </g>\n     <g id=\"text_2\">\n      <!-- −0.2 -->\n      <defs>\n       <path d=\"M 19.1875 8.296875 \nL 53.609375 8.296875 \nL 53.609375 0 \nL 7.328125 0 \nL 7.328125 8.296875 \nQ 12.9375 14.109375 22.625 23.890625 \nQ 32.328125 33.6875 34.8125 36.53125 \nQ 39.546875 41.84375 41.421875 45.53125 \nQ 43.3125 49.21875 43.3125 52.78125 \nQ 43.3125 58.59375 39.234375 62.25 \nQ 35.15625 65.921875 28.609375 65.921875 \nQ 23.96875 65.921875 18.8125 64.3125 \nQ 13.671875 62.703125 7.8125 59.421875 \nL 7.8125 69.390625 \nQ 13.765625 71.78125 18.9375 73 \nQ 24.125 74.21875 28.421875 74.21875 \nQ 39.75 74.21875 46.484375 68.546875 \nQ 53.21875 62.890625 53.21875 53.421875 \nQ 53.21875 48.921875 51.53125 44.890625 \nQ 49.859375 40.875 45.40625 35.40625 \nQ 44.1875 33.984375 37.640625 27.21875 \nQ 31.109375 20.453125 19.1875 8.296875 \nz\n\" id=\"DejaVuSans-50\"/>\n      </defs>\n      <g transform=\"translate(150.665087 239.238437)scale(0.1 -0.1)\">\n       <use xlink:href=\"#DejaVuSans-8722\"/>\n       <use x=\"83.789062\" xlink:href=\"#DejaVuSans-48\"/>\n       <use x=\"147.412109\" xlink:href=\"#DejaVuSans-46\"/>\n       <use x=\"179.199219\" xlink:href=\"#DejaVuSans-50\"/>\n      </g>\n     </g>\n    </g>\n    <g id=\"xtick_3\">\n     <g id=\"line2d_3\">\n      <g>\n       <use style=\"stroke:#000000;stroke-width:0.8;\" x=\"216.499877\" xlink:href=\"#med3de874f5\" y=\"224.64\"/>\n      </g>\n     </g>\n     <g id=\"text_3\">\n      <!-- −0.1 -->\n      <defs>\n       <path d=\"M 12.40625 8.296875 \nL 28.515625 8.296875 \nL 28.515625 63.921875 \nL 10.984375 60.40625 \nL 10.984375 69.390625 \nL 28.421875 72.90625 \nL 38.28125 72.90625 \nL 38.28125 8.296875 \nL 54.390625 8.296875 \nL 54.390625 0 \nL 12.40625 0 \nz\n\" id=\"DejaVuSans-49\"/>\n      </defs>\n      <g transform=\"translate(204.35847 239.238437)scale(0.1 -0.1)\">\n       <use xlink:href=\"#DejaVuSans-8722\"/>\n       <use x=\"83.789062\" xlink:href=\"#DejaVuSans-48\"/>\n       <use x=\"147.412109\" xlink:href=\"#DejaVuSans-46\"/>\n       <use x=\"179.199219\" xlink:href=\"#DejaVuSans-49\"/>\n      </g>\n     </g>\n    </g>\n    <g id=\"xtick_4\">\n     <g id=\"line2d_4\">\n      <g>\n       <use style=\"stroke:#000000;stroke-width:0.8;\" x=\"270.19326\" xlink:href=\"#med3de874f5\" y=\"224.64\"/>\n      </g>\n     </g>\n     <g id=\"text_4\">\n      <!-- 0.0 -->\n      <g transform=\"translate(262.241698 239.238437)scale(0.1 -0.1)\">\n       <use xlink:href=\"#DejaVuSans-48\"/>\n       <use x=\"63.623047\" xlink:href=\"#DejaVuSans-46\"/>\n       <use x=\"95.410156\" xlink:href=\"#DejaVuSans-48\"/>\n      </g>\n     </g>\n    </g>\n    <g id=\"xtick_5\">\n     <g id=\"line2d_5\">\n      <g>\n       <use style=\"stroke:#000000;stroke-width:0.8;\" x=\"323.886644\" xlink:href=\"#med3de874f5\" y=\"224.64\"/>\n      </g>\n     </g>\n     <g id=\"text_5\">\n      <!-- 0.1 -->\n      <g transform=\"translate(315.935081 239.238437)scale(0.1 -0.1)\">\n       <use xlink:href=\"#DejaVuSans-48\"/>\n       <use x=\"63.623047\" xlink:href=\"#DejaVuSans-46\"/>\n       <use x=\"95.410156\" xlink:href=\"#DejaVuSans-49\"/>\n      </g>\n     </g>\n    </g>\n    <g id=\"xtick_6\">\n     <g id=\"line2d_6\">\n      <g>\n       <use style=\"stroke:#000000;stroke-width:0.8;\" x=\"377.580027\" xlink:href=\"#med3de874f5\" y=\"224.64\"/>\n      </g>\n     </g>\n     <g id=\"text_6\">\n      <!-- 0.2 -->\n      <g transform=\"translate(369.628465 239.238437)scale(0.1 -0.1)\">\n       <use xlink:href=\"#DejaVuSans-48\"/>\n       <use x=\"63.623047\" xlink:href=\"#DejaVuSans-46\"/>\n       <use x=\"95.410156\" xlink:href=\"#DejaVuSans-50\"/>\n      </g>\n     </g>\n    </g>\n   </g>\n   <g id=\"matplotlib.axis_2\">\n    <g id=\"ytick_1\">\n     <g id=\"line2d_7\">\n      <defs>\n       <path d=\"M 0 0 \nL -3.5 0 \n\" id=\"m6975ec4b93\" style=\"stroke:#000000;stroke-width:0.8;\"/>\n      </defs>\n      <g>\n       <use style=\"stroke:#000000;stroke-width:0.8;\" x=\"59.690625\" xlink:href=\"#m6975ec4b93\" y=\"224.64\"/>\n      </g>\n     </g>\n     <g id=\"text_7\">\n      <!-- 0 -->\n      <g transform=\"translate(46.328125 228.439219)scale(0.1 -0.1)\">\n       <use xlink:href=\"#DejaVuSans-48\"/>\n      </g>\n     </g>\n    </g>\n    <g id=\"ytick_2\">\n     <g id=\"line2d_8\">\n      <g>\n       <use style=\"stroke:#000000;stroke-width:0.8;\" x=\"59.690625\" xlink:href=\"#m6975ec4b93\" y=\"196.275202\"/>\n      </g>\n     </g>\n     <g id=\"text_8\">\n      <!-- 2500 -->\n      <defs>\n       <path d=\"M 10.796875 72.90625 \nL 49.515625 72.90625 \nL 49.515625 64.59375 \nL 19.828125 64.59375 \nL 19.828125 46.734375 \nQ 21.96875 47.46875 24.109375 47.828125 \nQ 26.265625 48.1875 28.421875 48.1875 \nQ 40.625 48.1875 47.75 41.5 \nQ 54.890625 34.8125 54.890625 23.390625 \nQ 54.890625 11.625 47.5625 5.09375 \nQ 40.234375 -1.421875 26.90625 -1.421875 \nQ 22.3125 -1.421875 17.546875 -0.640625 \nQ 12.796875 0.140625 7.71875 1.703125 \nL 7.71875 11.625 \nQ 12.109375 9.234375 16.796875 8.0625 \nQ 21.484375 6.890625 26.703125 6.890625 \nQ 35.15625 6.890625 40.078125 11.328125 \nQ 45.015625 15.765625 45.015625 23.390625 \nQ 45.015625 31 40.078125 35.4375 \nQ 35.15625 39.890625 26.703125 39.890625 \nQ 22.75 39.890625 18.8125 39.015625 \nQ 14.890625 38.140625 10.796875 36.28125 \nz\n\" id=\"DejaVuSans-53\"/>\n      </defs>\n      <g transform=\"translate(27.240625 200.074421)scale(0.1 -0.1)\">\n       <use xlink:href=\"#DejaVuSans-50\"/>\n       <use x=\"63.623047\" xlink:href=\"#DejaVuSans-53\"/>\n       <use x=\"127.246094\" xlink:href=\"#DejaVuSans-48\"/>\n       <use x=\"190.869141\" xlink:href=\"#DejaVuSans-48\"/>\n      </g>\n     </g>\n    </g>\n    <g id=\"ytick_3\">\n     <g id=\"line2d_9\">\n      <g>\n       <use style=\"stroke:#000000;stroke-width:0.8;\" x=\"59.690625\" xlink:href=\"#m6975ec4b93\" y=\"167.910405\"/>\n      </g>\n     </g>\n     <g id=\"text_9\">\n      <!-- 5000 -->\n      <g transform=\"translate(27.240625 171.709624)scale(0.1 -0.1)\">\n       <use xlink:href=\"#DejaVuSans-53\"/>\n       <use x=\"63.623047\" xlink:href=\"#DejaVuSans-48\"/>\n       <use x=\"127.246094\" xlink:href=\"#DejaVuSans-48\"/>\n       <use x=\"190.869141\" xlink:href=\"#DejaVuSans-48\"/>\n      </g>\n     </g>\n    </g>\n    <g id=\"ytick_4\">\n     <g id=\"line2d_10\">\n      <g>\n       <use style=\"stroke:#000000;stroke-width:0.8;\" x=\"59.690625\" xlink:href=\"#m6975ec4b93\" y=\"139.545607\"/>\n      </g>\n     </g>\n     <g id=\"text_10\">\n      <!-- 7500 -->\n      <defs>\n       <path d=\"M 8.203125 72.90625 \nL 55.078125 72.90625 \nL 55.078125 68.703125 \nL 28.609375 0 \nL 18.3125 0 \nL 43.21875 64.59375 \nL 8.203125 64.59375 \nz\n\" id=\"DejaVuSans-55\"/>\n      </defs>\n      <g transform=\"translate(27.240625 143.344826)scale(0.1 -0.1)\">\n       <use xlink:href=\"#DejaVuSans-55\"/>\n       <use x=\"63.623047\" xlink:href=\"#DejaVuSans-53\"/>\n       <use x=\"127.246094\" xlink:href=\"#DejaVuSans-48\"/>\n       <use x=\"190.869141\" xlink:href=\"#DejaVuSans-48\"/>\n      </g>\n     </g>\n    </g>\n    <g id=\"ytick_5\">\n     <g id=\"line2d_11\">\n      <g>\n       <use style=\"stroke:#000000;stroke-width:0.8;\" x=\"59.690625\" xlink:href=\"#m6975ec4b93\" y=\"111.18081\"/>\n      </g>\n     </g>\n     <g id=\"text_11\">\n      <!-- 10000 -->\n      <g transform=\"translate(20.878125 114.980028)scale(0.1 -0.1)\">\n       <use xlink:href=\"#DejaVuSans-49\"/>\n       <use x=\"63.623047\" xlink:href=\"#DejaVuSans-48\"/>\n       <use x=\"127.246094\" xlink:href=\"#DejaVuSans-48\"/>\n       <use x=\"190.869141\" xlink:href=\"#DejaVuSans-48\"/>\n       <use x=\"254.492188\" xlink:href=\"#DejaVuSans-48\"/>\n      </g>\n     </g>\n    </g>\n    <g id=\"ytick_6\">\n     <g id=\"line2d_12\">\n      <g>\n       <use style=\"stroke:#000000;stroke-width:0.8;\" x=\"59.690625\" xlink:href=\"#m6975ec4b93\" y=\"82.816012\"/>\n      </g>\n     </g>\n     <g id=\"text_12\">\n      <!-- 12500 -->\n      <g transform=\"translate(20.878125 86.615231)scale(0.1 -0.1)\">\n       <use xlink:href=\"#DejaVuSans-49\"/>\n       <use x=\"63.623047\" xlink:href=\"#DejaVuSans-50\"/>\n       <use x=\"127.246094\" xlink:href=\"#DejaVuSans-53\"/>\n       <use x=\"190.869141\" xlink:href=\"#DejaVuSans-48\"/>\n       <use x=\"254.492188\" xlink:href=\"#DejaVuSans-48\"/>\n      </g>\n     </g>\n    </g>\n    <g id=\"ytick_7\">\n     <g id=\"line2d_13\">\n      <g>\n       <use style=\"stroke:#000000;stroke-width:0.8;\" x=\"59.690625\" xlink:href=\"#m6975ec4b93\" y=\"54.451214\"/>\n      </g>\n     </g>\n     <g id=\"text_13\">\n      <!-- 15000 -->\n      <g transform=\"translate(20.878125 58.250433)scale(0.1 -0.1)\">\n       <use xlink:href=\"#DejaVuSans-49\"/>\n       <use x=\"63.623047\" xlink:href=\"#DejaVuSans-53\"/>\n       <use x=\"127.246094\" xlink:href=\"#DejaVuSans-48\"/>\n       <use x=\"190.869141\" xlink:href=\"#DejaVuSans-48\"/>\n       <use x=\"254.492188\" xlink:href=\"#DejaVuSans-48\"/>\n      </g>\n     </g>\n    </g>\n    <g id=\"ytick_8\">\n     <g id=\"line2d_14\">\n      <g>\n       <use style=\"stroke:#000000;stroke-width:0.8;\" x=\"59.690625\" xlink:href=\"#m6975ec4b93\" y=\"26.086417\"/>\n      </g>\n     </g>\n     <g id=\"text_14\">\n      <!-- 17500 -->\n      <g transform=\"translate(20.878125 29.885636)scale(0.1 -0.1)\">\n       <use xlink:href=\"#DejaVuSans-49\"/>\n       <use x=\"63.623047\" xlink:href=\"#DejaVuSans-55\"/>\n       <use x=\"127.246094\" xlink:href=\"#DejaVuSans-53\"/>\n       <use x=\"190.869141\" xlink:href=\"#DejaVuSans-48\"/>\n       <use x=\"254.492188\" xlink:href=\"#DejaVuSans-48\"/>\n      </g>\n     </g>\n    </g>\n    <g id=\"text_15\">\n     <!-- Frequency -->\n     <defs>\n      <path d=\"M 9.8125 72.90625 \nL 51.703125 72.90625 \nL 51.703125 64.59375 \nL 19.671875 64.59375 \nL 19.671875 43.109375 \nL 48.578125 43.109375 \nL 48.578125 34.8125 \nL 19.671875 34.8125 \nL 19.671875 0 \nL 9.8125 0 \nz\n\" id=\"DejaVuSans-70\"/>\n      <path d=\"M 41.109375 46.296875 \nQ 39.59375 47.171875 37.8125 47.578125 \nQ 36.03125 48 33.890625 48 \nQ 26.265625 48 22.1875 43.046875 \nQ 18.109375 38.09375 18.109375 28.8125 \nL 18.109375 0 \nL 9.078125 0 \nL 9.078125 54.6875 \nL 18.109375 54.6875 \nL 18.109375 46.1875 \nQ 20.953125 51.171875 25.484375 53.578125 \nQ 30.03125 56 36.53125 56 \nQ 37.453125 56 38.578125 55.875 \nQ 39.703125 55.765625 41.0625 55.515625 \nz\n\" id=\"DejaVuSans-114\"/>\n      <path d=\"M 56.203125 29.59375 \nL 56.203125 25.203125 \nL 14.890625 25.203125 \nQ 15.484375 15.921875 20.484375 11.0625 \nQ 25.484375 6.203125 34.421875 6.203125 \nQ 39.59375 6.203125 44.453125 7.46875 \nQ 49.3125 8.734375 54.109375 11.28125 \nL 54.109375 2.78125 \nQ 49.265625 0.734375 44.1875 -0.34375 \nQ 39.109375 -1.421875 33.890625 -1.421875 \nQ 20.796875 -1.421875 13.15625 6.1875 \nQ 5.515625 13.8125 5.515625 26.8125 \nQ 5.515625 40.234375 12.765625 48.109375 \nQ 20.015625 56 32.328125 56 \nQ 43.359375 56 49.78125 48.890625 \nQ 56.203125 41.796875 56.203125 29.59375 \nz\nM 47.21875 32.234375 \nQ 47.125 39.59375 43.09375 43.984375 \nQ 39.0625 48.390625 32.421875 48.390625 \nQ 24.90625 48.390625 20.390625 44.140625 \nQ 15.875 39.890625 15.1875 32.171875 \nz\n\" id=\"DejaVuSans-101\"/>\n      <path d=\"M 14.796875 27.296875 \nQ 14.796875 17.390625 18.875 11.75 \nQ 22.953125 6.109375 30.078125 6.109375 \nQ 37.203125 6.109375 41.296875 11.75 \nQ 45.40625 17.390625 45.40625 27.296875 \nQ 45.40625 37.203125 41.296875 42.84375 \nQ 37.203125 48.484375 30.078125 48.484375 \nQ 22.953125 48.484375 18.875 42.84375 \nQ 14.796875 37.203125 14.796875 27.296875 \nz\nM 45.40625 8.203125 \nQ 42.578125 3.328125 38.25 0.953125 \nQ 33.9375 -1.421875 27.875 -1.421875 \nQ 17.96875 -1.421875 11.734375 6.484375 \nQ 5.515625 14.40625 5.515625 27.296875 \nQ 5.515625 40.1875 11.734375 48.09375 \nQ 17.96875 56 27.875 56 \nQ 33.9375 56 38.25 53.625 \nQ 42.578125 51.265625 45.40625 46.390625 \nL 45.40625 54.6875 \nL 54.390625 54.6875 \nL 54.390625 -20.796875 \nL 45.40625 -20.796875 \nz\n\" id=\"DejaVuSans-113\"/>\n      <path d=\"M 8.5 21.578125 \nL 8.5 54.6875 \nL 17.484375 54.6875 \nL 17.484375 21.921875 \nQ 17.484375 14.15625 20.5 10.265625 \nQ 23.53125 6.390625 29.59375 6.390625 \nQ 36.859375 6.390625 41.078125 11.03125 \nQ 45.3125 15.671875 45.3125 23.6875 \nL 45.3125 54.6875 \nL 54.296875 54.6875 \nL 54.296875 0 \nL 45.3125 0 \nL 45.3125 8.40625 \nQ 42.046875 3.421875 37.71875 1 \nQ 33.40625 -1.421875 27.6875 -1.421875 \nQ 18.265625 -1.421875 13.375 4.4375 \nQ 8.5 10.296875 8.5 21.578125 \nz\nM 31.109375 56 \nz\n\" id=\"DejaVuSans-117\"/>\n      <path d=\"M 54.890625 33.015625 \nL 54.890625 0 \nL 45.90625 0 \nL 45.90625 32.71875 \nQ 45.90625 40.484375 42.875 44.328125 \nQ 39.84375 48.1875 33.796875 48.1875 \nQ 26.515625 48.1875 22.3125 43.546875 \nQ 18.109375 38.921875 18.109375 30.90625 \nL 18.109375 0 \nL 9.078125 0 \nL 9.078125 54.6875 \nL 18.109375 54.6875 \nL 18.109375 46.1875 \nQ 21.34375 51.125 25.703125 53.5625 \nQ 30.078125 56 35.796875 56 \nQ 45.21875 56 50.046875 50.171875 \nQ 54.890625 44.34375 54.890625 33.015625 \nz\n\" id=\"DejaVuSans-110\"/>\n      <path d=\"M 48.78125 52.59375 \nL 48.78125 44.1875 \nQ 44.96875 46.296875 41.140625 47.34375 \nQ 37.3125 48.390625 33.40625 48.390625 \nQ 24.65625 48.390625 19.8125 42.84375 \nQ 14.984375 37.3125 14.984375 27.296875 \nQ 14.984375 17.28125 19.8125 11.734375 \nQ 24.65625 6.203125 33.40625 6.203125 \nQ 37.3125 6.203125 41.140625 7.25 \nQ 44.96875 8.296875 48.78125 10.40625 \nL 48.78125 2.09375 \nQ 45.015625 0.34375 40.984375 -0.53125 \nQ 36.96875 -1.421875 32.421875 -1.421875 \nQ 20.0625 -1.421875 12.78125 6.34375 \nQ 5.515625 14.109375 5.515625 27.296875 \nQ 5.515625 40.671875 12.859375 48.328125 \nQ 20.21875 56 33.015625 56 \nQ 37.15625 56 41.109375 55.140625 \nQ 45.0625 54.296875 48.78125 52.59375 \nz\n\" id=\"DejaVuSans-99\"/>\n      <path d=\"M 32.171875 -5.078125 \nQ 28.375 -14.84375 24.75 -17.8125 \nQ 21.140625 -20.796875 15.09375 -20.796875 \nL 7.90625 -20.796875 \nL 7.90625 -13.28125 \nL 13.1875 -13.28125 \nQ 16.890625 -13.28125 18.9375 -11.515625 \nQ 21 -9.765625 23.484375 -3.21875 \nL 25.09375 0.875 \nL 2.984375 54.6875 \nL 12.5 54.6875 \nL 29.59375 11.921875 \nL 46.6875 54.6875 \nL 56.203125 54.6875 \nz\n\" id=\"DejaVuSans-121\"/>\n     </defs>\n     <g transform=\"translate(14.798438 141.749687)rotate(-90)scale(0.1 -0.1)\">\n      <use xlink:href=\"#DejaVuSans-70\"/>\n      <use x=\"50.269531\" xlink:href=\"#DejaVuSans-114\"/>\n      <use x=\"89.132812\" xlink:href=\"#DejaVuSans-101\"/>\n      <use x=\"150.65625\" xlink:href=\"#DejaVuSans-113\"/>\n      <use x=\"214.132812\" xlink:href=\"#DejaVuSans-117\"/>\n      <use x=\"277.511719\" xlink:href=\"#DejaVuSans-101\"/>\n      <use x=\"339.035156\" xlink:href=\"#DejaVuSans-110\"/>\n      <use x=\"402.414062\" xlink:href=\"#DejaVuSans-99\"/>\n      <use x=\"457.394531\" xlink:href=\"#DejaVuSans-121\"/>\n     </g>\n    </g>\n   </g>\n   <g id=\"patch_13\">\n    <path d=\"M 59.690625 224.64 \nL 59.690625 7.2 \n\" style=\"fill:none;stroke:#000000;stroke-linecap:square;stroke-linejoin:miter;stroke-width:0.8;\"/>\n   </g>\n   <g id=\"patch_14\">\n    <path d=\"M 394.490625 224.64 \nL 394.490625 7.2 \n\" style=\"fill:none;stroke:#000000;stroke-linecap:square;stroke-linejoin:miter;stroke-width:0.8;\"/>\n   </g>\n   <g id=\"patch_15\">\n    <path d=\"M 59.690625 224.64 \nL 394.490625 224.64 \n\" style=\"fill:none;stroke:#000000;stroke-linecap:square;stroke-linejoin:miter;stroke-width:0.8;\"/>\n   </g>\n   <g id=\"patch_16\">\n    <path d=\"M 59.690625 7.2 \nL 394.490625 7.2 \n\" style=\"fill:none;stroke:#000000;stroke-linecap:square;stroke-linejoin:miter;stroke-width:0.8;\"/>\n   </g>\n  </g>\n </g>\n <defs>\n  <clipPath id=\"p09f78ba896\">\n   <rect height=\"217.44\" width=\"334.8\" x=\"59.690625\" y=\"7.2\"/>\n  </clipPath>\n </defs>\n</svg>\n",
      "image/png": "[encoded data removed]"
     },
     "metadata": {
      "needs_background": "light"
     }
    }
   ],
   "source": [
    "X['F39'].plot.hist()"
   ]
  },
  {
   "cell_type": "code",
   "execution_count": null,
   "metadata": {},
   "outputs": [],
   "source": []
  }
 ]
}