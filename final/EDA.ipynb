{
 "metadata": {
  "language_info": {
   "codemirror_mode": {
    "name": "ipython",
    "version": 3
   },
   "file_extension": ".py",
   "mimetype": "text/x-python",
   "name": "python",
   "nbconvert_exporter": "python",
   "pygments_lexer": "ipython3",
   "version": "3.7.8-final"
  },
  "orig_nbformat": 2,
  "kernelspec": {
   "name": "Python 3.7.8 64-bit ('yacup2020': conda)",
   "display_name": "Python 3.7.8 64-bit ('yacup2020': conda)",
   "metadata": {
    "interpreter": {
     "hash": "d766210ff219c80e4a6d9c8011c99b5f5a8cdc708594a198ac7e4eb519c177e8"
    }
   }
  }
 },
 "nbformat": 4,
 "nbformat_minor": 2,
 "cells": [
  {
   "cell_type": "code",
   "execution_count": 1,
   "metadata": {},
   "outputs": [],
   "source": [
    "import pandas as pd\n",
    "import numpy as np\n",
    "import matplotlib.pyplot as plt\n",
    "\n",
    "from final.solution import cast_line_elements"
   ]
  },
  {
   "cell_type": "code",
   "execution_count": 2,
   "metadata": {},
   "outputs": [],
   "source": [
    "# FIN = \"data/01_head100.txt\"\n",
    "FIN = \"data/01\"\n",
    "with open(FIN, \"r\") as fin:\n",
    "    lines= fin.readlines()\n",
    "\n",
    "# subset of rows to fit into memory\n",
    "lines = lines[:50000]"
   ]
  },
  {
   "source": [
    "Extract the number of targets, categoricals and floats"
   ],
   "cell_type": "markdown",
   "metadata": {}
  },
  {
   "cell_type": "code",
   "execution_count": 20,
   "metadata": {},
   "outputs": [],
   "source": [
    "\n",
    "T, C, F = cast_line_elements(lines[0], int)\n",
    "cols_t = [f\"T{i}\" for i in range(T)]\n",
    "cols_c = [f\"C{i}\" for i in range(C)]\n",
    "cols_f = [f\"F{i}\" for i in range(F)]"
   ]
  },
  {
   "source": [
    "Transform the data into a dataframe casting appropreate types"
   ],
   "cell_type": "markdown",
   "metadata": {}
  },
  {
   "cell_type": "code",
   "execution_count": 28,
   "metadata": {},
   "outputs": [],
   "source": [
    "df = pd.Series(lines[5:]).map(lambda s: s.strip().split()).apply(pd.Series)\n",
    "df.columns = cols_t + cols_c + cols_f\n",
    "# every 10'000-th row is just a separator and will lead to weird rows in DF\n",
    "df = df.dropna()\n",
    "# ensure proper types\n",
    "dtypes = {col: np.uint16 for col in cols_c+cols_t}\n",
    "dtypes.update({col: np.float32 for col in cols_f})\n",
    "df = df.astype(dtypes)\n",
    "\n",
    "# separation of targets and features\n",
    "X = df.iloc[:,T:]\n",
    "y = df.iloc[:,:T]"
   ]
  },
  {
   "cell_type": "code",
   "execution_count": 36,
   "metadata": {},
   "outputs": [
    {
     "output_type": "display_data",
     "data": {
      "text/plain": "          T0        T1        T2\nC0                              \n0   0.004276  0.023001  0.007386\n1   0.014580  0.000087  0.000000\n2   0.012598  0.000188  0.000846\n3   0.000000  0.000095  0.000191\n4   0.003185  0.000000  0.000000\n5   0.004348  0.000000  0.004348\n6   0.000000  0.000000  0.000000\n7   0.000000  0.000000  0.000000\n8   0.000000  0.000000  0.000000\n9   0.000000  0.000000  0.000000\n10  0.000000  0.000000  0.000000\n11  0.000000  0.000000  0.000000\n12  0.000000  0.000000  0.000000\n13  0.000000  0.000000  0.000000",
      "text/html": "<div>\n<style scoped>\n    .dataframe tbody tr th:only-of-type {\n        vertical-align: middle;\n    }\n\n    .dataframe tbody tr th {\n        vertical-align: top;\n    }\n\n    .dataframe thead th {\n        text-align: right;\n    }\n</style>\n<table border=\"1\" class=\"dataframe\">\n  <thead>\n    <tr style=\"text-align: right;\">\n      <th></th>\n      <th>T0</th>\n      <th>T1</th>\n      <th>T2</th>\n    </tr>\n    <tr>\n      <th>C0</th>\n      <th></th>\n      <th></th>\n      <th></th>\n    </tr>\n  </thead>\n  <tbody>\n    <tr>\n      <th>0</th>\n      <td>0.004276</td>\n      <td>0.023001</td>\n      <td>0.007386</td>\n    </tr>\n    <tr>\n      <th>1</th>\n      <td>0.014580</td>\n      <td>0.000087</td>\n      <td>0.000000</td>\n    </tr>\n    <tr>\n      <th>2</th>\n      <td>0.012598</td>\n      <td>0.000188</td>\n      <td>0.000846</td>\n    </tr>\n    <tr>\n      <th>3</th>\n      <td>0.000000</td>\n      <td>0.000095</td>\n      <td>0.000191</td>\n    </tr>\n    <tr>\n      <th>4</th>\n      <td>0.003185</td>\n      <td>0.000000</td>\n      <td>0.000000</td>\n    </tr>\n    <tr>\n      <th>5</th>\n      <td>0.004348</td>\n      <td>0.000000</td>\n      <td>0.004348</td>\n    </tr>\n    <tr>\n      <th>6</th>\n      <td>0.000000</td>\n      <td>0.000000</td>\n      <td>0.000000</td>\n    </tr>\n    <tr>\n      <th>7</th>\n      <td>0.000000</td>\n      <td>0.000000</td>\n      <td>0.000000</td>\n    </tr>\n    <tr>\n      <th>8</th>\n      <td>0.000000</td>\n      <td>0.000000</td>\n      <td>0.000000</td>\n    </tr>\n    <tr>\n      <th>9</th>\n      <td>0.000000</td>\n      <td>0.000000</td>\n      <td>0.000000</td>\n    </tr>\n    <tr>\n      <th>10</th>\n      <td>0.000000</td>\n      <td>0.000000</td>\n      <td>0.000000</td>\n    </tr>\n    <tr>\n      <th>11</th>\n      <td>0.000000</td>\n      <td>0.000000</td>\n      <td>0.000000</td>\n    </tr>\n    <tr>\n      <th>12</th>\n      <td>0.000000</td>\n      <td>0.000000</td>\n      <td>0.000000</td>\n    </tr>\n    <tr>\n      <th>13</th>\n      <td>0.000000</td>\n      <td>0.000000</td>\n      <td>0.000000</td>\n    </tr>\n  </tbody>\n</table>\n</div>"
     },
     "metadata": {}
    },
    {
     "output_type": "display_data",
     "data": {
      "text/plain": "          T0        T1        T2\nC1                              \n0   0.002866  0.001720  0.000764\n1   0.000198  0.007334  0.008722\n2   0.000158  0.000633  0.000158\n3   0.041758  0.001852  0.000000\n4   0.002836  0.089685  0.000000\n5   0.010753  0.000000  0.000000\n6   0.002187  0.001093  0.000000\n7   0.005427  0.003947  0.003947\n8   0.001258  0.002516  0.066667\n9   0.008172  0.000000  0.002043\n10  0.000000  0.000000  0.000000\n11  0.000000  0.010274  0.003425\n12  0.000000  0.000000  0.000000\n13  0.000000  0.054645  0.000000\n14  0.000000  0.000000  0.000000\n15  0.000000  0.000000  0.000000\n16  0.000000  0.008929  0.000000\n17  0.000000  0.000000  0.000000\n18  0.000000  0.000000  0.003521\n19  0.000000  0.000000  0.000000\n20  0.000000  0.000000  0.000000\n21  0.007407  0.000000  0.000000\n22  0.000000  0.000000  0.059524\n23  0.000000  0.000000  0.000000\n24  0.200000  0.000000  0.000000",
      "text/html": "<div>\n<style scoped>\n    .dataframe tbody tr th:only-of-type {\n        vertical-align: middle;\n    }\n\n    .dataframe tbody tr th {\n        vertical-align: top;\n    }\n\n    .dataframe thead th {\n        text-align: right;\n    }\n</style>\n<table border=\"1\" class=\"dataframe\">\n  <thead>\n    <tr style=\"text-align: right;\">\n      <th></th>\n      <th>T0</th>\n      <th>T1</th>\n      <th>T2</th>\n    </tr>\n    <tr>\n      <th>C1</th>\n      <th></th>\n      <th></th>\n      <th></th>\n    </tr>\n  </thead>\n  <tbody>\n    <tr>\n      <th>0</th>\n      <td>0.002866</td>\n      <td>0.001720</td>\n      <td>0.000764</td>\n    </tr>\n    <tr>\n      <th>1</th>\n      <td>0.000198</td>\n      <td>0.007334</td>\n      <td>0.008722</td>\n    </tr>\n    <tr>\n      <th>2</th>\n      <td>0.000158</td>\n      <td>0.000633</td>\n      <td>0.000158</td>\n    </tr>\n    <tr>\n      <th>3</th>\n      <td>0.041758</td>\n      <td>0.001852</td>\n      <td>0.000000</td>\n    </tr>\n    <tr>\n      <th>4</th>\n      <td>0.002836</td>\n      <td>0.089685</td>\n      <td>0.000000</td>\n    </tr>\n    <tr>\n      <th>5</th>\n      <td>0.010753</td>\n      <td>0.000000</td>\n      <td>0.000000</td>\n    </tr>\n    <tr>\n      <th>6</th>\n      <td>0.002187</td>\n      <td>0.001093</td>\n      <td>0.000000</td>\n    </tr>\n    <tr>\n      <th>7</th>\n      <td>0.005427</td>\n      <td>0.003947</td>\n      <td>0.003947</td>\n    </tr>\n    <tr>\n      <th>8</th>\n      <td>0.001258</td>\n      <td>0.002516</td>\n      <td>0.066667</td>\n    </tr>\n    <tr>\n      <th>9</th>\n      <td>0.008172</td>\n      <td>0.000000</td>\n      <td>0.002043</td>\n    </tr>\n    <tr>\n      <th>10</th>\n      <td>0.000000</td>\n      <td>0.000000</td>\n      <td>0.000000</td>\n    </tr>\n    <tr>\n      <th>11</th>\n      <td>0.000000</td>\n      <td>0.010274</td>\n      <td>0.003425</td>\n    </tr>\n    <tr>\n      <th>12</th>\n      <td>0.000000</td>\n      <td>0.000000</td>\n      <td>0.000000</td>\n    </tr>\n    <tr>\n      <th>13</th>\n      <td>0.000000</td>\n      <td>0.054645</td>\n      <td>0.000000</td>\n    </tr>\n    <tr>\n      <th>14</th>\n      <td>0.000000</td>\n      <td>0.000000</td>\n      <td>0.000000</td>\n    </tr>\n    <tr>\n      <th>15</th>\n      <td>0.000000</td>\n      <td>0.000000</td>\n      <td>0.000000</td>\n    </tr>\n    <tr>\n      <th>16</th>\n      <td>0.000000</td>\n      <td>0.008929</td>\n      <td>0.000000</td>\n    </tr>\n    <tr>\n      <th>17</th>\n      <td>0.000000</td>\n      <td>0.000000</td>\n      <td>0.000000</td>\n    </tr>\n    <tr>\n      <th>18</th>\n      <td>0.000000</td>\n      <td>0.000000</td>\n      <td>0.003521</td>\n    </tr>\n    <tr>\n      <th>19</th>\n      <td>0.000000</td>\n      <td>0.000000</td>\n      <td>0.000000</td>\n    </tr>\n    <tr>\n      <th>20</th>\n      <td>0.000000</td>\n      <td>0.000000</td>\n      <td>0.000000</td>\n    </tr>\n    <tr>\n      <th>21</th>\n      <td>0.007407</td>\n      <td>0.000000</td>\n      <td>0.000000</td>\n    </tr>\n    <tr>\n      <th>22</th>\n      <td>0.000000</td>\n      <td>0.000000</td>\n      <td>0.059524</td>\n    </tr>\n    <tr>\n      <th>23</th>\n      <td>0.000000</td>\n      <td>0.000000</td>\n      <td>0.000000</td>\n    </tr>\n    <tr>\n      <th>24</th>\n      <td>0.200000</td>\n      <td>0.000000</td>\n      <td>0.000000</td>\n    </tr>\n  </tbody>\n</table>\n</div>"
     },
     "metadata": {}
    },
    {
     "output_type": "display_data",
     "data": {
      "text/plain": "          T0        T1        T2\nC2                              \n0   0.008921  0.004895  0.002882\n1   0.000295  0.030669  0.000295\n2   0.010643  0.000000  0.002082\n3   0.000000  0.014548  0.015587\n4   0.000000  0.000499  0.001498\n..       ...       ...       ...\n60  0.000000  0.000000  0.000000\n62  0.000000  0.000000  0.000000\n63  0.000000  0.000000  0.000000\n64  0.000000  0.000000  0.000000\n67  0.000000  0.000000  0.000000\n\n[65 rows x 3 columns]",
      "text/html": "<div>\n<style scoped>\n    .dataframe tbody tr th:only-of-type {\n        vertical-align: middle;\n    }\n\n    .dataframe tbody tr th {\n        vertical-align: top;\n    }\n\n    .dataframe thead th {\n        text-align: right;\n    }\n</style>\n<table border=\"1\" class=\"dataframe\">\n  <thead>\n    <tr style=\"text-align: right;\">\n      <th></th>\n      <th>T0</th>\n      <th>T1</th>\n      <th>T2</th>\n    </tr>\n    <tr>\n      <th>C2</th>\n      <th></th>\n      <th></th>\n      <th></th>\n    </tr>\n  </thead>\n  <tbody>\n    <tr>\n      <th>0</th>\n      <td>0.008921</td>\n      <td>0.004895</td>\n      <td>0.002882</td>\n    </tr>\n    <tr>\n      <th>1</th>\n      <td>0.000295</td>\n      <td>0.030669</td>\n      <td>0.000295</td>\n    </tr>\n    <tr>\n      <th>2</th>\n      <td>0.010643</td>\n      <td>0.000000</td>\n      <td>0.002082</td>\n    </tr>\n    <tr>\n      <th>3</th>\n      <td>0.000000</td>\n      <td>0.014548</td>\n      <td>0.015587</td>\n    </tr>\n    <tr>\n      <th>4</th>\n      <td>0.000000</td>\n      <td>0.000499</td>\n      <td>0.001498</td>\n    </tr>\n    <tr>\n      <th>...</th>\n      <td>...</td>\n      <td>...</td>\n      <td>...</td>\n    </tr>\n    <tr>\n      <th>60</th>\n      <td>0.000000</td>\n      <td>0.000000</td>\n      <td>0.000000</td>\n    </tr>\n    <tr>\n      <th>62</th>\n      <td>0.000000</td>\n      <td>0.000000</td>\n      <td>0.000000</td>\n    </tr>\n    <tr>\n      <th>63</th>\n      <td>0.000000</td>\n      <td>0.000000</td>\n      <td>0.000000</td>\n    </tr>\n    <tr>\n      <th>64</th>\n      <td>0.000000</td>\n      <td>0.000000</td>\n      <td>0.000000</td>\n    </tr>\n    <tr>\n      <th>67</th>\n      <td>0.000000</td>\n      <td>0.000000</td>\n      <td>0.000000</td>\n    </tr>\n  </tbody>\n</table>\n<p>65 rows × 3 columns</p>\n</div>"
     },
     "metadata": {}
    },
    {
     "output_type": "display_data",
     "data": {
      "text/plain": "          T0        T1        T2\nC3                              \n0   0.005582  0.004967  0.001041\n1   0.009478  0.010002  0.003823\n2   0.007483  0.007143  0.003628\n3   0.006410  0.000000  0.000000",
      "text/html": "<div>\n<style scoped>\n    .dataframe tbody tr th:only-of-type {\n        vertical-align: middle;\n    }\n\n    .dataframe tbody tr th {\n        vertical-align: top;\n    }\n\n    .dataframe thead th {\n        text-align: right;\n    }\n</style>\n<table border=\"1\" class=\"dataframe\">\n  <thead>\n    <tr style=\"text-align: right;\">\n      <th></th>\n      <th>T0</th>\n      <th>T1</th>\n      <th>T2</th>\n    </tr>\n    <tr>\n      <th>C3</th>\n      <th></th>\n      <th></th>\n      <th></th>\n    </tr>\n  </thead>\n  <tbody>\n    <tr>\n      <th>0</th>\n      <td>0.005582</td>\n      <td>0.004967</td>\n      <td>0.001041</td>\n    </tr>\n    <tr>\n      <th>1</th>\n      <td>0.009478</td>\n      <td>0.010002</td>\n      <td>0.003823</td>\n    </tr>\n    <tr>\n      <th>2</th>\n      <td>0.007483</td>\n      <td>0.007143</td>\n      <td>0.003628</td>\n    </tr>\n    <tr>\n      <th>3</th>\n      <td>0.006410</td>\n      <td>0.000000</td>\n      <td>0.000000</td>\n    </tr>\n  </tbody>\n</table>\n</div>"
     },
     "metadata": {}
    }
   ],
   "source": [
    "for i in range(C):\n",
    "    display(df.groupby(f\"C{i}\")[cols_t].mean())"
   ]
  },
  {
   "cell_type": "code",
   "execution_count": null,
   "metadata": {},
   "outputs": [],
   "source": []
  }
 ]
}